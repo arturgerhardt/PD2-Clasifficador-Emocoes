{
 "cells": [
  {
   "cell_type": "code",
   "execution_count": 2,
   "metadata": {},
   "outputs": [],
   "source": [
    "import tensorflow as tf\n",
    "import h5py\n",
    "import scipy\n",
    "\n",
    "from tensorflow.keras.preprocessing.image import ImageDataGenerator\n",
    "from tensorflow.keras.models import Sequential\n",
    "from tensorflow.keras.layers import Conv2D, MaxPooling2D, Flatten, Dense, Dropout\n",
    "from tensorflow.keras.optimizers import Adam, Adamax\n"
   ]
  },
  {
   "cell_type": "code",
   "execution_count": 3,
   "metadata": {},
   "outputs": [],
   "source": [
    "# Configurações para o treinamento\n",
    "train_data_dir = './data'\n",
    "batch_size = 80 # imagens por lote\n",
    "num_epochs = 20 # épocas de treinamento\n",
    "image_size = (200, 200) # tamanho imagens\n",
    "num_classes = 5 # qtd de classes\n",
    "classes = ['Raiva', 'Alegria', 'Neutro', 'Triste', 'Surpresa']"
   ]
  },
  {
   "cell_type": "code",
   "execution_count": 4,
   "metadata": {},
   "outputs": [],
   "source": [
    "train_datagen = ImageDataGenerator(\n",
    "    rescale = 1.0/255,\n",
    "    validation_split = 0.25, # 25% para validação\n",
    "    #shear_range = 0.2, # inclinação\n",
    "    #zoom_range = 0.2, # zoom\n",
    "    horizontal_flip = True # espelhamento horizontal\n",
    ")"
   ]
  },
  {
   "cell_type": "code",
   "execution_count": 5,
   "metadata": {},
   "outputs": [
    {
     "name": "stdout",
     "output_type": "stream",
     "text": [
      "Found 10624 images belonging to 5 classes.\n"
     ]
    }
   ],
   "source": [
    "train_generator = train_datagen.flow_from_directory(\n",
    "    train_data_dir,\n",
    "    target_size = image_size,\n",
    "    batch_size = batch_size,\n",
    "    class_mode = 'categorical',\n",
    "    subset = 'training'\n",
    ")"
   ]
  },
  {
   "cell_type": "code",
   "execution_count": 6,
   "metadata": {},
   "outputs": [
    {
     "name": "stdout",
     "output_type": "stream",
     "text": [
      "Found 3539 images belonging to 5 classes.\n"
     ]
    }
   ],
   "source": [
    "validation_generator = train_datagen.flow_from_directory(\n",
    "    train_data_dir,\n",
    "    target_size = image_size,\n",
    "    batch_size = batch_size,\n",
    "    class_mode = 'categorical',\n",
    "    subset = 'validation'\n",
    ")"
   ]
  },
  {
   "cell_type": "code",
   "execution_count": 7,
   "metadata": {},
   "outputs": [
    {
     "name": "stdout",
     "output_type": "stream",
     "text": [
      "WARNING:tensorflow:From c:\\Users\\artur\\anaconda3\\Lib\\site-packages\\keras\\src\\backend.py:873: The name tf.get_default_graph is deprecated. Please use tf.compat.v1.get_default_graph instead.\n",
      "\n",
      "WARNING:tensorflow:From c:\\Users\\artur\\anaconda3\\Lib\\site-packages\\keras\\src\\layers\\pooling\\max_pooling2d.py:161: The name tf.nn.max_pool is deprecated. Please use tf.nn.max_pool2d instead.\n",
      "\n"
     ]
    }
   ],
   "source": [
    "model = Sequential() # instanciando o modelo\n",
    "model.add(Conv2D(32, (3,3), input_shape=(image_size[0], image_size[1], 3), activation='relu')) # camada de convolução\n",
    "model.add(MaxPooling2D(pool_size=(2,2))) # camada de pooling\n",
    "model.add(Conv2D(64, (3,3), activation='relu')) # camada de convolução\n",
    "model.add(MaxPooling2D(pool_size=(2,2))) # camada de pooling\n",
    "model.add(Flatten()) # camada de achatamento ou vetorização\n",
    "model.add(Dense(64, activation='relu')) # neurônios\n",
    "model.add(Dropout(0.35)) # regularização 50% chance de desligar neurônios\n",
    "model.add(Dense(5, activation='softmax')) # camada de saída (classificação binária)"
   ]
  },
  {
   "cell_type": "code",
   "execution_count": 8,
   "metadata": {},
   "outputs": [],
   "source": [
    "# compilar o modelo\n",
    "model.compile(\n",
    "    Adamax(0.001),\n",
    "    loss = 'categorical_crossentropy', # mais próximo de 0 melhor, 0.002 por exemplo\n",
    "    metrics = ['accuracy']\n",
    ")"
   ]
  },
  {
   "cell_type": "code",
   "execution_count": 9,
   "metadata": {},
   "outputs": [
    {
     "name": "stdout",
     "output_type": "stream",
     "text": [
      "Epoch 1/20\n",
      "WARNING:tensorflow:From c:\\Users\\artur\\anaconda3\\Lib\\site-packages\\keras\\src\\utils\\tf_utils.py:492: The name tf.ragged.RaggedTensorValue is deprecated. Please use tf.compat.v1.ragged.RaggedTensorValue instead.\n",
      "\n",
      "WARNING:tensorflow:From c:\\Users\\artur\\anaconda3\\Lib\\site-packages\\keras\\src\\engine\\base_layer_utils.py:384: The name tf.executing_eagerly_outside_functions is deprecated. Please use tf.compat.v1.executing_eagerly_outside_functions instead.\n",
      "\n",
      "133/133 [==============================] - 220s 2s/step - loss: 1.6595 - accuracy: 0.2803 - val_loss: 1.5005 - val_accuracy: 0.3622\n",
      "Epoch 2/20\n",
      "133/133 [==============================] - 140s 1s/step - loss: 1.4388 - accuracy: 0.3222 - val_loss: 1.4266 - val_accuracy: 0.3459\n",
      "Epoch 3/20\n",
      "133/133 [==============================] - 140s 1s/step - loss: 1.3618 - accuracy: 0.3592 - val_loss: 1.3785 - val_accuracy: 0.4219\n",
      "Epoch 4/20\n",
      "133/133 [==============================] - 138s 1s/step - loss: 1.3115 - accuracy: 0.3889 - val_loss: 1.3707 - val_accuracy: 0.4205\n",
      "Epoch 5/20\n",
      "133/133 [==============================] - 138s 1s/step - loss: 1.2612 - accuracy: 0.4211 - val_loss: 1.3414 - val_accuracy: 0.4919\n",
      "Epoch 6/20\n",
      "133/133 [==============================] - 148s 1s/step - loss: 1.2216 - accuracy: 0.4387 - val_loss: 1.2847 - val_accuracy: 0.5225\n",
      "Epoch 7/20\n",
      "133/133 [==============================] - 141s 1s/step - loss: 1.2000 - accuracy: 0.4509 - val_loss: 1.2813 - val_accuracy: 0.5428\n",
      "Epoch 8/20\n",
      "133/133 [==============================] - 138s 1s/step - loss: 1.1651 - accuracy: 0.4764 - val_loss: 1.2591 - val_accuracy: 0.5109\n",
      "Epoch 9/20\n",
      "133/133 [==============================] - 151s 1s/step - loss: 1.1427 - accuracy: 0.4816 - val_loss: 1.2004 - val_accuracy: 0.5538\n",
      "Epoch 10/20\n",
      "133/133 [==============================] - 159s 1s/step - loss: 1.1246 - accuracy: 0.4928 - val_loss: 1.2003 - val_accuracy: 0.5617\n",
      "Epoch 11/20\n",
      "133/133 [==============================] - 159s 1s/step - loss: 1.0964 - accuracy: 0.5068 - val_loss: 1.2398 - val_accuracy: 0.5730\n",
      "Epoch 12/20\n",
      "133/133 [==============================] - 161s 1s/step - loss: 1.0794 - accuracy: 0.5171 - val_loss: 1.1975 - val_accuracy: 0.5665\n",
      "Epoch 13/20\n",
      "133/133 [==============================] - 140s 1s/step - loss: 1.0666 - accuracy: 0.5153 - val_loss: 1.1660 - val_accuracy: 0.5762\n",
      "Epoch 14/20\n",
      "133/133 [==============================] - 130s 977ms/step - loss: 1.0462 - accuracy: 0.5301 - val_loss: 1.1719 - val_accuracy: 0.5829\n",
      "Epoch 15/20\n",
      "133/133 [==============================] - 140s 1s/step - loss: 1.0250 - accuracy: 0.5344 - val_loss: 1.2021 - val_accuracy: 0.5863\n",
      "Epoch 16/20\n",
      "133/133 [==============================] - 148s 1s/step - loss: 1.0158 - accuracy: 0.5439 - val_loss: 1.2394 - val_accuracy: 0.5846\n",
      "Epoch 17/20\n",
      "133/133 [==============================] - 161s 1s/step - loss: 1.0031 - accuracy: 0.5463 - val_loss: 1.2153 - val_accuracy: 0.5886\n",
      "Epoch 18/20\n",
      "133/133 [==============================] - 165s 1s/step - loss: 0.9768 - accuracy: 0.5568 - val_loss: 1.1929 - val_accuracy: 0.5835\n",
      "Epoch 19/20\n",
      "133/133 [==============================] - 154s 1s/step - loss: 0.9724 - accuracy: 0.5618 - val_loss: 1.2054 - val_accuracy: 0.5841\n",
      "Epoch 20/20\n",
      "133/133 [==============================] - 156s 1s/step - loss: 0.9455 - accuracy: 0.5753 - val_loss: 1.2285 - val_accuracy: 0.5900\n",
      "Treinamento concluído!\n"
     ]
    },
    {
     "name": "stderr",
     "output_type": "stream",
     "text": [
      "c:\\Users\\artur\\anaconda3\\Lib\\site-packages\\keras\\src\\engine\\training.py:3103: UserWarning: You are saving your model as an HDF5 file via `model.save()`. This file format is considered legacy. We recommend using instead the native Keras format, e.g. `model.save('my_model.keras')`.\n",
      "  saving_api.save_model(\n"
     ]
    }
   ],
   "source": [
    "# treinamento\n",
    "model.fit(\n",
    "    train_generator,\n",
    "    epochs = num_epochs,\n",
    "    validation_data = validation_generator\n",
    ")\n",
    "\n",
    "print('Treinamento concluído!')\n",
    "\n",
    "# salvar o modelo\n",
    "model.save('./models/ceMod7.h5')"
   ]
  }
 ],
 "metadata": {
  "kernelspec": {
   "display_name": "Python 3 (ipykernel)",
   "language": "python",
   "name": "python3"
  },
  "language_info": {
   "codemirror_mode": {
    "name": "ipython",
    "version": 3
   },
   "file_extension": ".py",
   "mimetype": "text/x-python",
   "name": "python",
   "nbconvert_exporter": "python",
   "pygments_lexer": "ipython3",
   "version": "3.11.9"
  },
  "widgets": {
   "application/vnd.jupyter.widget-state+json": {
    "state": {},
    "version_major": 2,
    "version_minor": 0
   }
  }
 },
 "nbformat": 4,
 "nbformat_minor": 4
}
