{
 "cells": [
  {
   "cell_type": "code",
   "execution_count": 1,
   "metadata": {},
   "outputs": [
    {
     "name": "stdout",
     "output_type": "stream",
     "text": [
      "WARNING:tensorflow:From c:\\Users\\artur\\anaconda3\\Lib\\site-packages\\keras\\src\\losses.py:2976: The name tf.losses.sparse_softmax_cross_entropy is deprecated. Please use tf.compat.v1.losses.sparse_softmax_cross_entropy instead.\n",
      "\n"
     ]
    }
   ],
   "source": [
    "import tensorflow as tf\n",
    "import scipy, numpy\n",
    "\n",
    "from tensorflow.keras.preprocessing.image import ImageDataGenerator\n",
    "from tensorflow.keras.models import Sequential\n",
    "from tensorflow.keras.layers import Conv2D, MaxPooling2D, Flatten, Dense, Dropout"
   ]
  },
  {
   "cell_type": "code",
   "execution_count": 9,
   "metadata": {},
   "outputs": [],
   "source": [
    "# Configurações para o treinamento\n",
    "train_data_dir = './data'\n",
    "batch_size = 100 # imagens por lote\n",
    "num_epochs = 100 # épocas de treinamento\n",
    "image_size = (200, 200) # tamanho imagens\n",
    "num_classes = 5 # qtd de classes"
   ]
  },
  {
   "cell_type": "code",
   "execution_count": 3,
   "metadata": {},
   "outputs": [],
   "source": [
    "train_datagen = ImageDataGenerator(\n",
    "    rescale = 1.0/255,\n",
    "    validation_split = 0.25, # 25% para validação\n",
    "    shear_range = 0.2, # inclinação\n",
    "    zoom_range = 0.2, # zoom\n",
    "    horizontal_flip = True # espelhamento horizontal\n",
    ")"
   ]
  },
  {
   "cell_type": "code",
   "execution_count": 4,
   "metadata": {},
   "outputs": [
    {
     "name": "stdout",
     "output_type": "stream",
     "text": [
      "Found 10684 images belonging to 5 classes.\n"
     ]
    }
   ],
   "source": [
    "train_generator = train_datagen.flow_from_directory(\n",
    "    train_data_dir,\n",
    "    target_size = image_size,\n",
    "    batch_size = batch_size,\n",
    "    class_mode = 'binary',\n",
    "    subset = 'training'\n",
    ")"
   ]
  },
  {
   "cell_type": "code",
   "execution_count": 5,
   "metadata": {},
   "outputs": [
    {
     "name": "stdout",
     "output_type": "stream",
     "text": [
      "Found 3559 images belonging to 5 classes.\n"
     ]
    }
   ],
   "source": [
    "validation_generator = train_datagen.flow_from_directory(\n",
    "    train_data_dir,\n",
    "    target_size = image_size,\n",
    "    batch_size = batch_size,\n",
    "    class_mode = 'binary',\n",
    "    subset = 'validation'\n",
    ")"
   ]
  },
  {
   "cell_type": "code",
   "execution_count": 7,
   "metadata": {},
   "outputs": [
    {
     "name": "stdout",
     "output_type": "stream",
     "text": [
      "WARNING:tensorflow:From c:\\Users\\artur\\anaconda3\\Lib\\site-packages\\keras\\src\\backend.py:873: The name tf.get_default_graph is deprecated. Please use tf.compat.v1.get_default_graph instead.\n",
      "\n",
      "WARNING:tensorflow:From c:\\Users\\artur\\anaconda3\\Lib\\site-packages\\keras\\src\\layers\\pooling\\max_pooling2d.py:161: The name tf.nn.max_pool is deprecated. Please use tf.nn.max_pool2d instead.\n",
      "\n"
     ]
    }
   ],
   "source": [
    "model = Sequential() # instanciando o modelo\n",
    "model.add(Conv2D(32, (3,3), input_shape=(image_size[0], image_size[1], 3), activation='relu')) # camada de convolução\n",
    "model.add(MaxPooling2D(pool_size=(2,2))) # camada de pooling\n",
    "model.add(Conv2D(64, (3,3), activation='relu')) # camada de convolução\n",
    "model.add(MaxPooling2D(pool_size=(2,2))) # camada de pooling\n",
    "model.add(Flatten()) # camada de achatamento ou vetorização\n",
    "model.add(Dense(64, activation='relu')) # neurônios\n",
    "model.add(Dropout(0.5)) # regularização 50% chance de desligar neurônios\n",
    "model.add(Dense(1, activation='sigmoid')) # camada de saída (classificação binária)"
   ]
  },
  {
   "cell_type": "code",
   "execution_count": 8,
   "metadata": {},
   "outputs": [
    {
     "name": "stdout",
     "output_type": "stream",
     "text": [
      "WARNING:tensorflow:From c:\\Users\\artur\\anaconda3\\Lib\\site-packages\\keras\\src\\optimizers\\__init__.py:309: The name tf.train.Optimizer is deprecated. Please use tf.compat.v1.train.Optimizer instead.\n",
      "\n"
     ]
    }
   ],
   "source": [
    "# compilar o modelo\n",
    "model.compile(\n",
    "    optimizer = 'adam',\n",
    "    loss = 'binary_crossentropy', # mais próximo de 0 melhor, 0.002 por exemplo\n",
    "    metrics = ['accuracy']\n",
    ")"
   ]
  },
  {
   "cell_type": "code",
   "execution_count": 10,
   "metadata": {},
   "outputs": [
    {
     "name": "stdout",
     "output_type": "stream",
     "text": [
      "Epoch 1/100\n",
      "WARNING:tensorflow:From c:\\Users\\artur\\anaconda3\\Lib\\site-packages\\keras\\src\\utils\\tf_utils.py:492: The name tf.ragged.RaggedTensorValue is deprecated. Please use tf.compat.v1.ragged.RaggedTensorValue instead.\n",
      "\n",
      "WARNING:tensorflow:From c:\\Users\\artur\\anaconda3\\Lib\\site-packages\\keras\\src\\engine\\base_layer_utils.py:384: The name tf.executing_eagerly_outside_functions is deprecated. Please use tf.compat.v1.executing_eagerly_outside_functions instead.\n",
      "\n",
      "107/107 [==============================] - 332s 3s/step - loss: -4192788.5000 - accuracy: 0.2619 - val_loss: -24540118.0000 - val_accuracy: 0.2624\n",
      "Epoch 2/100\n",
      "107/107 [==============================] - 221s 2s/step - loss: -216287424.0000 - accuracy: 0.2625 - val_loss: -630355712.0000 - val_accuracy: 0.2624\n",
      "Epoch 3/100\n",
      "107/107 [==============================] - 219s 2s/step - loss: -1904096640.0000 - accuracy: 0.2625 - val_loss: -3962552320.0000 - val_accuracy: 0.2624\n",
      "Epoch 4/100\n",
      "107/107 [==============================] - 221s 2s/step - loss: -8133969408.0000 - accuracy: 0.2625 - val_loss: -13934878720.0000 - val_accuracy: 0.2624\n",
      "Epoch 5/100\n",
      "107/107 [==============================] - 222s 2s/step - loss: -23348144128.0000 - accuracy: 0.2625 - val_loss: -35672887296.0000 - val_accuracy: 0.2624\n",
      "Epoch 6/100\n",
      "107/107 [==============================] - 226s 2s/step - loss: -53716336640.0000 - accuracy: 0.2625 - val_loss: -75974189056.0000 - val_accuracy: 0.2624\n",
      "Epoch 7/100\n",
      "107/107 [==============================] - 224s 2s/step - loss: -105952747520.0000 - accuracy: 0.2625 - val_loss: -141989625856.0000 - val_accuracy: 0.2624\n",
      "Epoch 8/100\n",
      "107/107 [==============================] - 224s 2s/step - loss: -187408449536.0000 - accuracy: 0.2625 - val_loss: -241287839744.0000 - val_accuracy: 0.2624\n",
      "Epoch 9/100\n",
      "107/107 [==============================] - 222s 2s/step - loss: -307482198016.0000 - accuracy: 0.2625 - val_loss: -382126686208.0000 - val_accuracy: 0.2624\n",
      "Epoch 10/100\n",
      "107/107 [==============================] - 224s 2s/step - loss: -469586280448.0000 - accuracy: 0.2625 - val_loss: -572542812160.0000 - val_accuracy: 0.2624\n",
      "Epoch 11/100\n",
      "107/107 [==============================] - 224s 2s/step - loss: -685214007296.0000 - accuracy: 0.2625 - val_loss: -820333248512.0000 - val_accuracy: 0.2624\n",
      "Epoch 12/100\n",
      "107/107 [==============================] - 221s 2s/step - loss: -965861638144.0000 - accuracy: 0.2625 - val_loss: -1138335416320.0000 - val_accuracy: 0.2624\n",
      "Epoch 13/100\n",
      "107/107 [==============================] - 224s 2s/step - loss: -1324409552896.0000 - accuracy: 0.2625 - val_loss: -1528247484416.0000 - val_accuracy: 0.2624\n",
      "Epoch 14/100\n",
      "107/107 [==============================] - 225s 2s/step - loss: -1751262429184.0000 - accuracy: 0.2625 - val_loss: -2009312133120.0000 - val_accuracy: 0.2624\n",
      "Epoch 15/100\n",
      "107/107 [==============================] - 225s 2s/step - loss: -2274051489792.0000 - accuracy: 0.2625 - val_loss: -2576915890176.0000 - val_accuracy: 0.2624\n",
      "Epoch 16/100\n",
      "107/107 [==============================] - 233s 2s/step - loss: -2877651156992.0000 - accuracy: 0.2625 - val_loss: -3239944388608.0000 - val_accuracy: 0.2624\n",
      "Epoch 17/100\n",
      "107/107 [==============================] - 228s 2s/step - loss: -3604108804096.0000 - accuracy: 0.2625 - val_loss: -4031140855808.0000 - val_accuracy: 0.2624\n",
      "Epoch 18/100\n",
      "107/107 [==============================] - 221s 2s/step - loss: -4451344580608.0000 - accuracy: 0.2625 - val_loss: -4923904753664.0000 - val_accuracy: 0.2624\n",
      "Epoch 19/100\n",
      "107/107 [==============================] - 220s 2s/step - loss: -5408163364864.0000 - accuracy: 0.2625 - val_loss: -5960265891840.0000 - val_accuracy: 0.2624\n",
      "Epoch 20/100\n",
      "107/107 [==============================] - 216s 2s/step - loss: -6536637710336.0000 - accuracy: 0.2625 - val_loss: -7102311432192.0000 - val_accuracy: 0.2624\n",
      "Epoch 21/100\n",
      "107/107 [==============================] - 219s 2s/step - loss: -7747211886592.0000 - accuracy: 0.2625 - val_loss: -8424375451648.0000 - val_accuracy: 0.2624\n",
      "Epoch 22/100\n",
      "107/107 [==============================] - 219s 2s/step - loss: -9172382908416.0000 - accuracy: 0.2625 - val_loss: -9877725380608.0000 - val_accuracy: 0.2624\n",
      "Epoch 23/100\n",
      "107/107 [==============================] - 216s 2s/step - loss: -10635341463552.0000 - accuracy: 0.2625 - val_loss: -11487316803584.0000 - val_accuracy: 0.2624\n",
      "Epoch 24/100\n",
      "107/107 [==============================] - 218s 2s/step - loss: -12337695162368.0000 - accuracy: 0.2625 - val_loss: -13277919707136.0000 - val_accuracy: 0.2624\n",
      "Epoch 25/100\n",
      "107/107 [==============================] - 218s 2s/step - loss: -14238792810496.0000 - accuracy: 0.2625 - val_loss: -15239964786688.0000 - val_accuracy: 0.2624\n",
      "Epoch 26/100\n",
      "107/107 [==============================] - 216s 2s/step - loss: -16209510662144.0000 - accuracy: 0.2625 - val_loss: -17347108667392.0000 - val_accuracy: 0.2624\n",
      "Epoch 27/100\n",
      "107/107 [==============================] - 217s 2s/step - loss: -18450342739968.0000 - accuracy: 0.2625 - val_loss: -19700725579776.0000 - val_accuracy: 0.2624\n",
      "Epoch 28/100\n",
      "107/107 [==============================] - 217s 2s/step - loss: -20898430058496.0000 - accuracy: 0.2625 - val_loss: -22192951656448.0000 - val_accuracy: 0.2624\n",
      "Epoch 29/100\n",
      "107/107 [==============================] - 217s 2s/step - loss: -23504411951104.0000 - accuracy: 0.2625 - val_loss: -24965315297280.0000 - val_accuracy: 0.2624\n",
      "Epoch 30/100\n",
      "107/107 [==============================] - 219s 2s/step - loss: -26222593572864.0000 - accuracy: 0.2625 - val_loss: -27870615306240.0000 - val_accuracy: 0.2624\n",
      "Epoch 31/100\n",
      "107/107 [==============================] - 219s 2s/step - loss: -29238262497280.0000 - accuracy: 0.2625 - val_loss: -31060918272000.0000 - val_accuracy: 0.2624\n",
      "Epoch 32/100\n",
      "107/107 [==============================] - 220s 2s/step - loss: -32327551942656.0000 - accuracy: 0.2625 - val_loss: -34371272704000.0000 - val_accuracy: 0.2624\n",
      "Epoch 33/100\n",
      "107/107 [==============================] - 218s 2s/step - loss: -36041276784640.0000 - accuracy: 0.2625 - val_loss: -37961630482432.0000 - val_accuracy: 0.2624\n",
      "Epoch 34/100\n",
      "107/107 [==============================] - 218s 2s/step - loss: -39802158186496.0000 - accuracy: 0.2625 - val_loss: -41933040779264.0000 - val_accuracy: 0.2624\n",
      "Epoch 35/100\n",
      "107/107 [==============================] - 217s 2s/step - loss: -43660846563328.0000 - accuracy: 0.2625 - val_loss: -46165731049472.0000 - val_accuracy: 0.2624\n",
      "Epoch 36/100\n",
      "107/107 [==============================] - 217s 2s/step - loss: -48042216521728.0000 - accuracy: 0.2625 - val_loss: -50355677167616.0000 - val_accuracy: 0.2624\n",
      "Epoch 37/100\n",
      "107/107 [==============================] - 218s 2s/step - loss: -52216786321408.0000 - accuracy: 0.2625 - val_loss: -55085551845376.0000 - val_accuracy: 0.2624\n",
      "Epoch 38/100\n",
      "107/107 [==============================] - 217s 2s/step - loss: -57143671652352.0000 - accuracy: 0.2625 - val_loss: -59962076168192.0000 - val_accuracy: 0.2624\n",
      "Epoch 39/100\n",
      "107/107 [==============================] - 218s 2s/step - loss: -62475189878784.0000 - accuracy: 0.2625 - val_loss: -65099385536512.0000 - val_accuracy: 0.2624\n",
      "Epoch 40/100\n",
      "107/107 [==============================] - 217s 2s/step - loss: -67676021981184.0000 - accuracy: 0.2625 - val_loss: -70684273278976.0000 - val_accuracy: 0.2624\n",
      "Epoch 41/100\n",
      "107/107 [==============================] - 217s 2s/step - loss: -73445157109760.0000 - accuracy: 0.2625 - val_loss: -76388434444288.0000 - val_accuracy: 0.2624\n",
      "Epoch 42/100\n",
      "107/107 [==============================] - 217s 2s/step - loss: -79489140785152.0000 - accuracy: 0.2625 - val_loss: -82694989938688.0000 - val_accuracy: 0.2624\n",
      "Epoch 43/100\n",
      "107/107 [==============================] - 217s 2s/step - loss: -85720056201216.0000 - accuracy: 0.2625 - val_loss: -89036567871488.0000 - val_accuracy: 0.2624\n",
      "Epoch 44/100\n",
      "107/107 [==============================] - 217s 2s/step - loss: -92276667711488.0000 - accuracy: 0.2625 - val_loss: -95718119309312.0000 - val_accuracy: 0.2624\n",
      "Epoch 45/100\n",
      "107/107 [==============================] - 218s 2s/step - loss: -98393976209408.0000 - accuracy: 0.2625 - val_loss: -102894296629248.0000 - val_accuracy: 0.2624\n",
      "Epoch 46/100\n",
      "107/107 [==============================] - 217s 2s/step - loss: -105907702726656.0000 - accuracy: 0.2625 - val_loss: -110444253544448.0000 - val_accuracy: 0.2624\n",
      "Epoch 47/100\n",
      "107/107 [==============================] - 220s 2s/step - loss: -113147792850944.0000 - accuracy: 0.2625 - val_loss: -117880251219968.0000 - val_accuracy: 0.2624\n",
      "Epoch 48/100\n",
      "107/107 [==============================] - 219s 2s/step - loss: -121403835678720.0000 - accuracy: 0.2625 - val_loss: -125838028701696.0000 - val_accuracy: 0.2624\n",
      "Epoch 49/100\n",
      "107/107 [==============================] - 219s 2s/step - loss: -128830387781632.0000 - accuracy: 0.2625 - val_loss: -134334077992960.0000 - val_accuracy: 0.2624\n",
      "Epoch 50/100\n",
      "107/107 [==============================] - 219s 2s/step - loss: -138124965445632.0000 - accuracy: 0.2625 - val_loss: -143336463663104.0000 - val_accuracy: 0.2624\n",
      "Epoch 51/100\n",
      "107/107 [==============================] - 241s 2s/step - loss: -147211547574272.0000 - accuracy: 0.2625 - val_loss: -152579837263872.0000 - val_accuracy: 0.2624\n",
      "Epoch 52/100\n",
      "107/107 [==============================] - 261s 2s/step - loss: -157011186548736.0000 - accuracy: 0.2625 - val_loss: -161983970148352.0000 - val_accuracy: 0.2624\n",
      "Epoch 53/100\n",
      "107/107 [==============================] - 282s 3s/step - loss: -166800943742976.0000 - accuracy: 0.2625 - val_loss: -171995035598848.0000 - val_accuracy: 0.2624\n",
      "Epoch 54/100\n",
      "107/107 [==============================] - 250s 2s/step - loss: -176403987300352.0000 - accuracy: 0.2625 - val_loss: -182612966506496.0000 - val_accuracy: 0.2624\n",
      "Epoch 55/100\n",
      "107/107 [==============================] - 237s 2s/step - loss: -187069397729280.0000 - accuracy: 0.2625 - val_loss: -193312115916800.0000 - val_accuracy: 0.2624\n",
      "Epoch 56/100\n",
      "107/107 [==============================] - 233s 2s/step - loss: -198285688045568.0000 - accuracy: 0.2625 - val_loss: -204530620825600.0000 - val_accuracy: 0.2624\n",
      "Epoch 57/100\n",
      "107/107 [==============================] - 232s 2s/step - loss: -209561554255872.0000 - accuracy: 0.2625 - val_loss: -216111161278464.0000 - val_accuracy: 0.2624\n",
      "Epoch 58/100\n",
      "107/107 [==============================] - 233s 2s/step - loss: -221773941440512.0000 - accuracy: 0.2625 - val_loss: -228525881688064.0000 - val_accuracy: 0.2624\n",
      "Epoch 59/100\n",
      "107/107 [==============================] - 224s 2s/step - loss: -233545238839296.0000 - accuracy: 0.2625 - val_loss: -240915855704064.0000 - val_accuracy: 0.2624\n",
      "Epoch 60/100\n",
      "107/107 [==============================] - 220s 2s/step - loss: -245639682195456.0000 - accuracy: 0.2625 - val_loss: -253810421268480.0000 - val_accuracy: 0.2624\n",
      "Epoch 61/100\n",
      "107/107 [==============================] - ETA: 0s - loss: -259711488229376.0000 - accuracy: 0.2625"
     ]
    },
    {
     "ename": "KeyboardInterrupt",
     "evalue": "",
     "output_type": "error",
     "traceback": [
      "\u001b[1;31m---------------------------------------------------------------------------\u001b[0m",
      "\u001b[1;31mKeyboardInterrupt\u001b[0m                         Traceback (most recent call last)",
      "Cell \u001b[1;32mIn[10], line 2\u001b[0m\n\u001b[0;32m      1\u001b[0m \u001b[38;5;66;03m# treinamento\u001b[39;00m\n\u001b[1;32m----> 2\u001b[0m model\u001b[38;5;241m.\u001b[39mfit(\n\u001b[0;32m      3\u001b[0m     train_generator,\n\u001b[0;32m      4\u001b[0m     epochs \u001b[38;5;241m=\u001b[39m num_epochs,\n\u001b[0;32m      5\u001b[0m     validation_data \u001b[38;5;241m=\u001b[39m validation_generator\n\u001b[0;32m      6\u001b[0m )\n\u001b[0;32m      8\u001b[0m \u001b[38;5;28mprint\u001b[39m(\u001b[38;5;124m'\u001b[39m\u001b[38;5;124mTreinamento concluído!\u001b[39m\u001b[38;5;124m'\u001b[39m)\n\u001b[0;32m     10\u001b[0m \u001b[38;5;66;03m# salvar o modelo\u001b[39;00m\n",
      "File \u001b[1;32mc:\\Users\\artur\\anaconda3\\Lib\\site-packages\\keras\\src\\utils\\traceback_utils.py:65\u001b[0m, in \u001b[0;36mfilter_traceback.<locals>.error_handler\u001b[1;34m(*args, **kwargs)\u001b[0m\n\u001b[0;32m     63\u001b[0m filtered_tb \u001b[38;5;241m=\u001b[39m \u001b[38;5;28;01mNone\u001b[39;00m\n\u001b[0;32m     64\u001b[0m \u001b[38;5;28;01mtry\u001b[39;00m:\n\u001b[1;32m---> 65\u001b[0m     \u001b[38;5;28;01mreturn\u001b[39;00m fn(\u001b[38;5;241m*\u001b[39margs, \u001b[38;5;241m*\u001b[39m\u001b[38;5;241m*\u001b[39mkwargs)\n\u001b[0;32m     66\u001b[0m \u001b[38;5;28;01mexcept\u001b[39;00m \u001b[38;5;167;01mException\u001b[39;00m \u001b[38;5;28;01mas\u001b[39;00m e:\n\u001b[0;32m     67\u001b[0m     filtered_tb \u001b[38;5;241m=\u001b[39m _process_traceback_frames(e\u001b[38;5;241m.\u001b[39m__traceback__)\n",
      "File \u001b[1;32mc:\\Users\\artur\\anaconda3\\Lib\\site-packages\\keras\\src\\engine\\training.py:1856\u001b[0m, in \u001b[0;36mModel.fit\u001b[1;34m(self, x, y, batch_size, epochs, verbose, callbacks, validation_split, validation_data, shuffle, class_weight, sample_weight, initial_epoch, steps_per_epoch, validation_steps, validation_batch_size, validation_freq, max_queue_size, workers, use_multiprocessing)\u001b[0m\n\u001b[0;32m   1840\u001b[0m \u001b[38;5;28;01mif\u001b[39;00m \u001b[38;5;28mgetattr\u001b[39m(\u001b[38;5;28mself\u001b[39m, \u001b[38;5;124m\"\u001b[39m\u001b[38;5;124m_eval_data_handler\u001b[39m\u001b[38;5;124m\"\u001b[39m, \u001b[38;5;28;01mNone\u001b[39;00m) \u001b[38;5;129;01mis\u001b[39;00m \u001b[38;5;28;01mNone\u001b[39;00m:\n\u001b[0;32m   1841\u001b[0m     \u001b[38;5;28mself\u001b[39m\u001b[38;5;241m.\u001b[39m_eval_data_handler \u001b[38;5;241m=\u001b[39m data_adapter\u001b[38;5;241m.\u001b[39mget_data_handler(\n\u001b[0;32m   1842\u001b[0m         x\u001b[38;5;241m=\u001b[39mval_x,\n\u001b[0;32m   1843\u001b[0m         y\u001b[38;5;241m=\u001b[39mval_y,\n\u001b[1;32m   (...)\u001b[0m\n\u001b[0;32m   1854\u001b[0m         pss_evaluation_shards\u001b[38;5;241m=\u001b[39m\u001b[38;5;28mself\u001b[39m\u001b[38;5;241m.\u001b[39m_pss_evaluation_shards,\n\u001b[0;32m   1855\u001b[0m     )\n\u001b[1;32m-> 1856\u001b[0m val_logs \u001b[38;5;241m=\u001b[39m \u001b[38;5;28mself\u001b[39m\u001b[38;5;241m.\u001b[39mevaluate(\n\u001b[0;32m   1857\u001b[0m     x\u001b[38;5;241m=\u001b[39mval_x,\n\u001b[0;32m   1858\u001b[0m     y\u001b[38;5;241m=\u001b[39mval_y,\n\u001b[0;32m   1859\u001b[0m     sample_weight\u001b[38;5;241m=\u001b[39mval_sample_weight,\n\u001b[0;32m   1860\u001b[0m     batch_size\u001b[38;5;241m=\u001b[39mvalidation_batch_size \u001b[38;5;129;01mor\u001b[39;00m batch_size,\n\u001b[0;32m   1861\u001b[0m     steps\u001b[38;5;241m=\u001b[39mvalidation_steps,\n\u001b[0;32m   1862\u001b[0m     callbacks\u001b[38;5;241m=\u001b[39mcallbacks,\n\u001b[0;32m   1863\u001b[0m     max_queue_size\u001b[38;5;241m=\u001b[39mmax_queue_size,\n\u001b[0;32m   1864\u001b[0m     workers\u001b[38;5;241m=\u001b[39mworkers,\n\u001b[0;32m   1865\u001b[0m     use_multiprocessing\u001b[38;5;241m=\u001b[39muse_multiprocessing,\n\u001b[0;32m   1866\u001b[0m     return_dict\u001b[38;5;241m=\u001b[39m\u001b[38;5;28;01mTrue\u001b[39;00m,\n\u001b[0;32m   1867\u001b[0m     _use_cached_eval_dataset\u001b[38;5;241m=\u001b[39m\u001b[38;5;28;01mTrue\u001b[39;00m,\n\u001b[0;32m   1868\u001b[0m )\n\u001b[0;32m   1869\u001b[0m val_logs \u001b[38;5;241m=\u001b[39m {\n\u001b[0;32m   1870\u001b[0m     \u001b[38;5;124m\"\u001b[39m\u001b[38;5;124mval_\u001b[39m\u001b[38;5;124m\"\u001b[39m \u001b[38;5;241m+\u001b[39m name: val \u001b[38;5;28;01mfor\u001b[39;00m name, val \u001b[38;5;129;01min\u001b[39;00m val_logs\u001b[38;5;241m.\u001b[39mitems()\n\u001b[0;32m   1871\u001b[0m }\n\u001b[0;32m   1872\u001b[0m epoch_logs\u001b[38;5;241m.\u001b[39mupdate(val_logs)\n",
      "File \u001b[1;32mc:\\Users\\artur\\anaconda3\\Lib\\site-packages\\keras\\src\\utils\\traceback_utils.py:65\u001b[0m, in \u001b[0;36mfilter_traceback.<locals>.error_handler\u001b[1;34m(*args, **kwargs)\u001b[0m\n\u001b[0;32m     63\u001b[0m filtered_tb \u001b[38;5;241m=\u001b[39m \u001b[38;5;28;01mNone\u001b[39;00m\n\u001b[0;32m     64\u001b[0m \u001b[38;5;28;01mtry\u001b[39;00m:\n\u001b[1;32m---> 65\u001b[0m     \u001b[38;5;28;01mreturn\u001b[39;00m fn(\u001b[38;5;241m*\u001b[39margs, \u001b[38;5;241m*\u001b[39m\u001b[38;5;241m*\u001b[39mkwargs)\n\u001b[0;32m     66\u001b[0m \u001b[38;5;28;01mexcept\u001b[39;00m \u001b[38;5;167;01mException\u001b[39;00m \u001b[38;5;28;01mas\u001b[39;00m e:\n\u001b[0;32m     67\u001b[0m     filtered_tb \u001b[38;5;241m=\u001b[39m _process_traceback_frames(e\u001b[38;5;241m.\u001b[39m__traceback__)\n",
      "File \u001b[1;32mc:\\Users\\artur\\anaconda3\\Lib\\site-packages\\keras\\src\\engine\\training.py:2296\u001b[0m, in \u001b[0;36mModel.evaluate\u001b[1;34m(self, x, y, batch_size, verbose, sample_weight, steps, callbacks, max_queue_size, workers, use_multiprocessing, return_dict, **kwargs)\u001b[0m\n\u001b[0;32m   2292\u001b[0m             \u001b[38;5;28;01mwith\u001b[39;00m tf\u001b[38;5;241m.\u001b[39mprofiler\u001b[38;5;241m.\u001b[39mexperimental\u001b[38;5;241m.\u001b[39mTrace(\n\u001b[0;32m   2293\u001b[0m                 \u001b[38;5;124m\"\u001b[39m\u001b[38;5;124mtest\u001b[39m\u001b[38;5;124m\"\u001b[39m, step_num\u001b[38;5;241m=\u001b[39mstep, _r\u001b[38;5;241m=\u001b[39m\u001b[38;5;241m1\u001b[39m\n\u001b[0;32m   2294\u001b[0m             ):\n\u001b[0;32m   2295\u001b[0m                 callbacks\u001b[38;5;241m.\u001b[39mon_test_batch_begin(step)\n\u001b[1;32m-> 2296\u001b[0m                 logs \u001b[38;5;241m=\u001b[39m test_function_runner\u001b[38;5;241m.\u001b[39mrun_step(\n\u001b[0;32m   2297\u001b[0m                     dataset_or_iterator,\n\u001b[0;32m   2298\u001b[0m                     data_handler,\n\u001b[0;32m   2299\u001b[0m                     step,\n\u001b[0;32m   2300\u001b[0m                     \u001b[38;5;28mself\u001b[39m\u001b[38;5;241m.\u001b[39m_pss_evaluation_shards,\n\u001b[0;32m   2301\u001b[0m                 )\n\u001b[0;32m   2303\u001b[0m logs \u001b[38;5;241m=\u001b[39m tf_utils\u001b[38;5;241m.\u001b[39msync_to_numpy_or_python_type(logs)\n\u001b[0;32m   2304\u001b[0m \u001b[38;5;66;03m# Override with model metrics instead of last step logs\u001b[39;00m\n",
      "File \u001b[1;32mc:\\Users\\artur\\anaconda3\\Lib\\site-packages\\keras\\src\\engine\\training.py:4108\u001b[0m, in \u001b[0;36m_TestFunction.run_step\u001b[1;34m(self, dataset_or_iterator, data_handler, step, unused_shards)\u001b[0m\n\u001b[0;32m   4107\u001b[0m \u001b[38;5;28;01mdef\u001b[39;00m \u001b[38;5;21mrun_step\u001b[39m(\u001b[38;5;28mself\u001b[39m, dataset_or_iterator, data_handler, step, unused_shards):\n\u001b[1;32m-> 4108\u001b[0m     tmp_logs \u001b[38;5;241m=\u001b[39m \u001b[38;5;28mself\u001b[39m\u001b[38;5;241m.\u001b[39m_function(dataset_or_iterator)\n\u001b[0;32m   4109\u001b[0m     \u001b[38;5;28;01mif\u001b[39;00m data_handler\u001b[38;5;241m.\u001b[39mshould_sync:\n\u001b[0;32m   4110\u001b[0m         context\u001b[38;5;241m.\u001b[39masync_wait()\n",
      "File \u001b[1;32mc:\\Users\\artur\\anaconda3\\Lib\\site-packages\\tensorflow\\python\\util\\traceback_utils.py:150\u001b[0m, in \u001b[0;36mfilter_traceback.<locals>.error_handler\u001b[1;34m(*args, **kwargs)\u001b[0m\n\u001b[0;32m    148\u001b[0m filtered_tb \u001b[38;5;241m=\u001b[39m \u001b[38;5;28;01mNone\u001b[39;00m\n\u001b[0;32m    149\u001b[0m \u001b[38;5;28;01mtry\u001b[39;00m:\n\u001b[1;32m--> 150\u001b[0m   \u001b[38;5;28;01mreturn\u001b[39;00m fn(\u001b[38;5;241m*\u001b[39margs, \u001b[38;5;241m*\u001b[39m\u001b[38;5;241m*\u001b[39mkwargs)\n\u001b[0;32m    151\u001b[0m \u001b[38;5;28;01mexcept\u001b[39;00m \u001b[38;5;167;01mException\u001b[39;00m \u001b[38;5;28;01mas\u001b[39;00m e:\n\u001b[0;32m    152\u001b[0m   filtered_tb \u001b[38;5;241m=\u001b[39m _process_traceback_frames(e\u001b[38;5;241m.\u001b[39m__traceback__)\n",
      "File \u001b[1;32mc:\\Users\\artur\\anaconda3\\Lib\\site-packages\\tensorflow\\python\\eager\\polymorphic_function\\polymorphic_function.py:832\u001b[0m, in \u001b[0;36mFunction.__call__\u001b[1;34m(self, *args, **kwds)\u001b[0m\n\u001b[0;32m    829\u001b[0m compiler \u001b[38;5;241m=\u001b[39m \u001b[38;5;124m\"\u001b[39m\u001b[38;5;124mxla\u001b[39m\u001b[38;5;124m\"\u001b[39m \u001b[38;5;28;01mif\u001b[39;00m \u001b[38;5;28mself\u001b[39m\u001b[38;5;241m.\u001b[39m_jit_compile \u001b[38;5;28;01melse\u001b[39;00m \u001b[38;5;124m\"\u001b[39m\u001b[38;5;124mnonXla\u001b[39m\u001b[38;5;124m\"\u001b[39m\n\u001b[0;32m    831\u001b[0m \u001b[38;5;28;01mwith\u001b[39;00m OptionalXlaContext(\u001b[38;5;28mself\u001b[39m\u001b[38;5;241m.\u001b[39m_jit_compile):\n\u001b[1;32m--> 832\u001b[0m   result \u001b[38;5;241m=\u001b[39m \u001b[38;5;28mself\u001b[39m\u001b[38;5;241m.\u001b[39m_call(\u001b[38;5;241m*\u001b[39margs, \u001b[38;5;241m*\u001b[39m\u001b[38;5;241m*\u001b[39mkwds)\n\u001b[0;32m    834\u001b[0m new_tracing_count \u001b[38;5;241m=\u001b[39m \u001b[38;5;28mself\u001b[39m\u001b[38;5;241m.\u001b[39mexperimental_get_tracing_count()\n\u001b[0;32m    835\u001b[0m without_tracing \u001b[38;5;241m=\u001b[39m (tracing_count \u001b[38;5;241m==\u001b[39m new_tracing_count)\n",
      "File \u001b[1;32mc:\\Users\\artur\\anaconda3\\Lib\\site-packages\\tensorflow\\python\\eager\\polymorphic_function\\polymorphic_function.py:877\u001b[0m, in \u001b[0;36mFunction._call\u001b[1;34m(self, *args, **kwds)\u001b[0m\n\u001b[0;32m    874\u001b[0m \u001b[38;5;28mself\u001b[39m\u001b[38;5;241m.\u001b[39m_lock\u001b[38;5;241m.\u001b[39mrelease()\n\u001b[0;32m    875\u001b[0m \u001b[38;5;66;03m# In this case we have not created variables on the first call. So we can\u001b[39;00m\n\u001b[0;32m    876\u001b[0m \u001b[38;5;66;03m# run the first trace but we should fail if variables are created.\u001b[39;00m\n\u001b[1;32m--> 877\u001b[0m results \u001b[38;5;241m=\u001b[39m tracing_compilation\u001b[38;5;241m.\u001b[39mcall_function(\n\u001b[0;32m    878\u001b[0m     args, kwds, \u001b[38;5;28mself\u001b[39m\u001b[38;5;241m.\u001b[39m_variable_creation_config\n\u001b[0;32m    879\u001b[0m )\n\u001b[0;32m    880\u001b[0m \u001b[38;5;28;01mif\u001b[39;00m \u001b[38;5;28mself\u001b[39m\u001b[38;5;241m.\u001b[39m_created_variables:\n\u001b[0;32m    881\u001b[0m   \u001b[38;5;28;01mraise\u001b[39;00m \u001b[38;5;167;01mValueError\u001b[39;00m(\u001b[38;5;124m\"\u001b[39m\u001b[38;5;124mCreating variables on a non-first call to a function\u001b[39m\u001b[38;5;124m\"\u001b[39m\n\u001b[0;32m    882\u001b[0m                    \u001b[38;5;124m\"\u001b[39m\u001b[38;5;124m decorated with tf.function.\u001b[39m\u001b[38;5;124m\"\u001b[39m)\n",
      "File \u001b[1;32mc:\\Users\\artur\\anaconda3\\Lib\\site-packages\\tensorflow\\python\\eager\\polymorphic_function\\tracing_compilation.py:139\u001b[0m, in \u001b[0;36mcall_function\u001b[1;34m(args, kwargs, tracing_options)\u001b[0m\n\u001b[0;32m    137\u001b[0m bound_args \u001b[38;5;241m=\u001b[39m function\u001b[38;5;241m.\u001b[39mfunction_type\u001b[38;5;241m.\u001b[39mbind(\u001b[38;5;241m*\u001b[39margs, \u001b[38;5;241m*\u001b[39m\u001b[38;5;241m*\u001b[39mkwargs)\n\u001b[0;32m    138\u001b[0m flat_inputs \u001b[38;5;241m=\u001b[39m function\u001b[38;5;241m.\u001b[39mfunction_type\u001b[38;5;241m.\u001b[39munpack_inputs(bound_args)\n\u001b[1;32m--> 139\u001b[0m \u001b[38;5;28;01mreturn\u001b[39;00m function\u001b[38;5;241m.\u001b[39m_call_flat(  \u001b[38;5;66;03m# pylint: disable=protected-access\u001b[39;00m\n\u001b[0;32m    140\u001b[0m     flat_inputs, captured_inputs\u001b[38;5;241m=\u001b[39mfunction\u001b[38;5;241m.\u001b[39mcaptured_inputs\n\u001b[0;32m    141\u001b[0m )\n",
      "File \u001b[1;32mc:\\Users\\artur\\anaconda3\\Lib\\site-packages\\tensorflow\\python\\eager\\polymorphic_function\\concrete_function.py:1323\u001b[0m, in \u001b[0;36mConcreteFunction._call_flat\u001b[1;34m(self, tensor_inputs, captured_inputs)\u001b[0m\n\u001b[0;32m   1319\u001b[0m possible_gradient_type \u001b[38;5;241m=\u001b[39m gradients_util\u001b[38;5;241m.\u001b[39mPossibleTapeGradientTypes(args)\n\u001b[0;32m   1320\u001b[0m \u001b[38;5;28;01mif\u001b[39;00m (possible_gradient_type \u001b[38;5;241m==\u001b[39m gradients_util\u001b[38;5;241m.\u001b[39mPOSSIBLE_GRADIENT_TYPES_NONE\n\u001b[0;32m   1321\u001b[0m     \u001b[38;5;129;01mand\u001b[39;00m executing_eagerly):\n\u001b[0;32m   1322\u001b[0m   \u001b[38;5;66;03m# No tape is watching; skip to running the function.\u001b[39;00m\n\u001b[1;32m-> 1323\u001b[0m   \u001b[38;5;28;01mreturn\u001b[39;00m \u001b[38;5;28mself\u001b[39m\u001b[38;5;241m.\u001b[39m_inference_function\u001b[38;5;241m.\u001b[39mcall_preflattened(args)\n\u001b[0;32m   1324\u001b[0m forward_backward \u001b[38;5;241m=\u001b[39m \u001b[38;5;28mself\u001b[39m\u001b[38;5;241m.\u001b[39m_select_forward_and_backward_functions(\n\u001b[0;32m   1325\u001b[0m     args,\n\u001b[0;32m   1326\u001b[0m     possible_gradient_type,\n\u001b[0;32m   1327\u001b[0m     executing_eagerly)\n\u001b[0;32m   1328\u001b[0m forward_function, args_with_tangents \u001b[38;5;241m=\u001b[39m forward_backward\u001b[38;5;241m.\u001b[39mforward()\n",
      "File \u001b[1;32mc:\\Users\\artur\\anaconda3\\Lib\\site-packages\\tensorflow\\python\\eager\\polymorphic_function\\atomic_function.py:216\u001b[0m, in \u001b[0;36mAtomicFunction.call_preflattened\u001b[1;34m(self, args)\u001b[0m\n\u001b[0;32m    214\u001b[0m \u001b[38;5;28;01mdef\u001b[39;00m \u001b[38;5;21mcall_preflattened\u001b[39m(\u001b[38;5;28mself\u001b[39m, args: Sequence[core\u001b[38;5;241m.\u001b[39mTensor]) \u001b[38;5;241m-\u001b[39m\u001b[38;5;241m>\u001b[39m Any:\n\u001b[0;32m    215\u001b[0m \u001b[38;5;250m  \u001b[39m\u001b[38;5;124;03m\"\"\"Calls with flattened tensor inputs and returns the structured output.\"\"\"\u001b[39;00m\n\u001b[1;32m--> 216\u001b[0m   flat_outputs \u001b[38;5;241m=\u001b[39m \u001b[38;5;28mself\u001b[39m\u001b[38;5;241m.\u001b[39mcall_flat(\u001b[38;5;241m*\u001b[39margs)\n\u001b[0;32m    217\u001b[0m   \u001b[38;5;28;01mreturn\u001b[39;00m \u001b[38;5;28mself\u001b[39m\u001b[38;5;241m.\u001b[39mfunction_type\u001b[38;5;241m.\u001b[39mpack_output(flat_outputs)\n",
      "File \u001b[1;32mc:\\Users\\artur\\anaconda3\\Lib\\site-packages\\tensorflow\\python\\eager\\polymorphic_function\\atomic_function.py:251\u001b[0m, in \u001b[0;36mAtomicFunction.call_flat\u001b[1;34m(self, *args)\u001b[0m\n\u001b[0;32m    249\u001b[0m \u001b[38;5;28;01mwith\u001b[39;00m record\u001b[38;5;241m.\u001b[39mstop_recording():\n\u001b[0;32m    250\u001b[0m   \u001b[38;5;28;01mif\u001b[39;00m \u001b[38;5;28mself\u001b[39m\u001b[38;5;241m.\u001b[39m_bound_context\u001b[38;5;241m.\u001b[39mexecuting_eagerly():\n\u001b[1;32m--> 251\u001b[0m     outputs \u001b[38;5;241m=\u001b[39m \u001b[38;5;28mself\u001b[39m\u001b[38;5;241m.\u001b[39m_bound_context\u001b[38;5;241m.\u001b[39mcall_function(\n\u001b[0;32m    252\u001b[0m         \u001b[38;5;28mself\u001b[39m\u001b[38;5;241m.\u001b[39mname,\n\u001b[0;32m    253\u001b[0m         \u001b[38;5;28mlist\u001b[39m(args),\n\u001b[0;32m    254\u001b[0m         \u001b[38;5;28mlen\u001b[39m(\u001b[38;5;28mself\u001b[39m\u001b[38;5;241m.\u001b[39mfunction_type\u001b[38;5;241m.\u001b[39mflat_outputs),\n\u001b[0;32m    255\u001b[0m     )\n\u001b[0;32m    256\u001b[0m   \u001b[38;5;28;01melse\u001b[39;00m:\n\u001b[0;32m    257\u001b[0m     outputs \u001b[38;5;241m=\u001b[39m make_call_op_in_graph(\n\u001b[0;32m    258\u001b[0m         \u001b[38;5;28mself\u001b[39m,\n\u001b[0;32m    259\u001b[0m         \u001b[38;5;28mlist\u001b[39m(args),\n\u001b[0;32m    260\u001b[0m         \u001b[38;5;28mself\u001b[39m\u001b[38;5;241m.\u001b[39m_bound_context\u001b[38;5;241m.\u001b[39mfunction_call_options\u001b[38;5;241m.\u001b[39mas_attrs(),\n\u001b[0;32m    261\u001b[0m     )\n",
      "File \u001b[1;32mc:\\Users\\artur\\anaconda3\\Lib\\site-packages\\tensorflow\\python\\eager\\context.py:1486\u001b[0m, in \u001b[0;36mContext.call_function\u001b[1;34m(self, name, tensor_inputs, num_outputs)\u001b[0m\n\u001b[0;32m   1484\u001b[0m cancellation_context \u001b[38;5;241m=\u001b[39m cancellation\u001b[38;5;241m.\u001b[39mcontext()\n\u001b[0;32m   1485\u001b[0m \u001b[38;5;28;01mif\u001b[39;00m cancellation_context \u001b[38;5;129;01mis\u001b[39;00m \u001b[38;5;28;01mNone\u001b[39;00m:\n\u001b[1;32m-> 1486\u001b[0m   outputs \u001b[38;5;241m=\u001b[39m execute\u001b[38;5;241m.\u001b[39mexecute(\n\u001b[0;32m   1487\u001b[0m       name\u001b[38;5;241m.\u001b[39mdecode(\u001b[38;5;124m\"\u001b[39m\u001b[38;5;124mutf-8\u001b[39m\u001b[38;5;124m\"\u001b[39m),\n\u001b[0;32m   1488\u001b[0m       num_outputs\u001b[38;5;241m=\u001b[39mnum_outputs,\n\u001b[0;32m   1489\u001b[0m       inputs\u001b[38;5;241m=\u001b[39mtensor_inputs,\n\u001b[0;32m   1490\u001b[0m       attrs\u001b[38;5;241m=\u001b[39mattrs,\n\u001b[0;32m   1491\u001b[0m       ctx\u001b[38;5;241m=\u001b[39m\u001b[38;5;28mself\u001b[39m,\n\u001b[0;32m   1492\u001b[0m   )\n\u001b[0;32m   1493\u001b[0m \u001b[38;5;28;01melse\u001b[39;00m:\n\u001b[0;32m   1494\u001b[0m   outputs \u001b[38;5;241m=\u001b[39m execute\u001b[38;5;241m.\u001b[39mexecute_with_cancellation(\n\u001b[0;32m   1495\u001b[0m       name\u001b[38;5;241m.\u001b[39mdecode(\u001b[38;5;124m\"\u001b[39m\u001b[38;5;124mutf-8\u001b[39m\u001b[38;5;124m\"\u001b[39m),\n\u001b[0;32m   1496\u001b[0m       num_outputs\u001b[38;5;241m=\u001b[39mnum_outputs,\n\u001b[1;32m   (...)\u001b[0m\n\u001b[0;32m   1500\u001b[0m       cancellation_manager\u001b[38;5;241m=\u001b[39mcancellation_context,\n\u001b[0;32m   1501\u001b[0m   )\n",
      "File \u001b[1;32mc:\\Users\\artur\\anaconda3\\Lib\\site-packages\\tensorflow\\python\\eager\\execute.py:53\u001b[0m, in \u001b[0;36mquick_execute\u001b[1;34m(op_name, num_outputs, inputs, attrs, ctx, name)\u001b[0m\n\u001b[0;32m     51\u001b[0m \u001b[38;5;28;01mtry\u001b[39;00m:\n\u001b[0;32m     52\u001b[0m   ctx\u001b[38;5;241m.\u001b[39mensure_initialized()\n\u001b[1;32m---> 53\u001b[0m   tensors \u001b[38;5;241m=\u001b[39m pywrap_tfe\u001b[38;5;241m.\u001b[39mTFE_Py_Execute(ctx\u001b[38;5;241m.\u001b[39m_handle, device_name, op_name,\n\u001b[0;32m     54\u001b[0m                                       inputs, attrs, num_outputs)\n\u001b[0;32m     55\u001b[0m \u001b[38;5;28;01mexcept\u001b[39;00m core\u001b[38;5;241m.\u001b[39m_NotOkStatusException \u001b[38;5;28;01mas\u001b[39;00m e:\n\u001b[0;32m     56\u001b[0m   \u001b[38;5;28;01mif\u001b[39;00m name \u001b[38;5;129;01mis\u001b[39;00m \u001b[38;5;129;01mnot\u001b[39;00m \u001b[38;5;28;01mNone\u001b[39;00m:\n",
      "\u001b[1;31mKeyboardInterrupt\u001b[0m: "
     ]
    }
   ],
   "source": [
    "# treinamento\n",
    "model.fit(\n",
    "    train_generator,\n",
    "    epochs = num_epochs,\n",
    "    validation_data = validation_generator\n",
    ")\n",
    "\n",
    "print('Treinamento concluído!')\n",
    "\n",
    "# salvar o modelo\n",
    "model.save('./models/ceModel0.h5')"
   ]
  }
 ],
 "metadata": {
  "kernelspec": {
   "display_name": "Python 3 (ipykernel)",
   "language": "python",
   "name": "python3"
  },
  "language_info": {
   "codemirror_mode": {
    "name": "ipython",
    "version": 3
   },
   "file_extension": ".py",
   "mimetype": "text/x-python",
   "name": "python",
   "nbconvert_exporter": "python",
   "pygments_lexer": "ipython3",
   "version": "3.11.4"
  },
  "widgets": {
   "application/vnd.jupyter.widget-state+json": {
    "state": {},
    "version_major": 2,
    "version_minor": 0
   }
  }
 },
 "nbformat": 4,
 "nbformat_minor": 4
}
